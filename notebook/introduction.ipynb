{
 "cells": [
  {
   "cell_type": "code",
   "execution_count": 1,
   "metadata": {
    "collapsed": true
   },
   "outputs": [],
   "source": [
    "import os\n",
    "import pandas as pd"
   ]
  },
  {
   "cell_type": "code",
   "execution_count": 2,
   "outputs": [
    {
     "data": {
      "text/plain": "   fixed acidity  volatile acidity  citric acid  residual sugar  chlorides  \\\n0            7.4              0.70         0.00             1.9      0.076   \n1            7.8              0.88         0.00             2.6      0.098   \n2            7.8              0.76         0.04             2.3      0.092   \n3           11.2              0.28         0.56             1.9      0.075   \n4            7.4              0.70         0.00             1.9      0.076   \n\n   free sulfur dioxide  total sulfur dioxide  density    pH  sulphates  \\\n0                 11.0                  34.0   0.9978  3.51       0.56   \n1                 25.0                  67.0   0.9968  3.20       0.68   \n2                 15.0                  54.0   0.9970  3.26       0.65   \n3                 17.0                  60.0   0.9980  3.16       0.58   \n4                 11.0                  34.0   0.9978  3.51       0.56   \n\n   alcohol  TARGET  \n0      9.4       5  \n1      9.8       5  \n2      9.8       5  \n3      9.8       6  \n4      9.4       5  ",
      "text/html": "<div>\n<style scoped>\n    .dataframe tbody tr th:only-of-type {\n        vertical-align: middle;\n    }\n\n    .dataframe tbody tr th {\n        vertical-align: top;\n    }\n\n    .dataframe thead th {\n        text-align: right;\n    }\n</style>\n<table border=\"1\" class=\"dataframe\">\n  <thead>\n    <tr style=\"text-align: right;\">\n      <th></th>\n      <th>fixed acidity</th>\n      <th>volatile acidity</th>\n      <th>citric acid</th>\n      <th>residual sugar</th>\n      <th>chlorides</th>\n      <th>free sulfur dioxide</th>\n      <th>total sulfur dioxide</th>\n      <th>density</th>\n      <th>pH</th>\n      <th>sulphates</th>\n      <th>alcohol</th>\n      <th>TARGET</th>\n    </tr>\n  </thead>\n  <tbody>\n    <tr>\n      <th>0</th>\n      <td>7.4</td>\n      <td>0.70</td>\n      <td>0.00</td>\n      <td>1.9</td>\n      <td>0.076</td>\n      <td>11.0</td>\n      <td>34.0</td>\n      <td>0.9978</td>\n      <td>3.51</td>\n      <td>0.56</td>\n      <td>9.4</td>\n      <td>5</td>\n    </tr>\n    <tr>\n      <th>1</th>\n      <td>7.8</td>\n      <td>0.88</td>\n      <td>0.00</td>\n      <td>2.6</td>\n      <td>0.098</td>\n      <td>25.0</td>\n      <td>67.0</td>\n      <td>0.9968</td>\n      <td>3.20</td>\n      <td>0.68</td>\n      <td>9.8</td>\n      <td>5</td>\n    </tr>\n    <tr>\n      <th>2</th>\n      <td>7.8</td>\n      <td>0.76</td>\n      <td>0.04</td>\n      <td>2.3</td>\n      <td>0.092</td>\n      <td>15.0</td>\n      <td>54.0</td>\n      <td>0.9970</td>\n      <td>3.26</td>\n      <td>0.65</td>\n      <td>9.8</td>\n      <td>5</td>\n    </tr>\n    <tr>\n      <th>3</th>\n      <td>11.2</td>\n      <td>0.28</td>\n      <td>0.56</td>\n      <td>1.9</td>\n      <td>0.075</td>\n      <td>17.0</td>\n      <td>60.0</td>\n      <td>0.9980</td>\n      <td>3.16</td>\n      <td>0.58</td>\n      <td>9.8</td>\n      <td>6</td>\n    </tr>\n    <tr>\n      <th>4</th>\n      <td>7.4</td>\n      <td>0.70</td>\n      <td>0.00</td>\n      <td>1.9</td>\n      <td>0.076</td>\n      <td>11.0</td>\n      <td>34.0</td>\n      <td>0.9978</td>\n      <td>3.51</td>\n      <td>0.56</td>\n      <td>9.4</td>\n      <td>5</td>\n    </tr>\n  </tbody>\n</table>\n</div>"
     },
     "execution_count": 2,
     "metadata": {},
     "output_type": "execute_result"
    }
   ],
   "source": [
    "df = pd.read_csv(\"../data_given/winequality.csv\")\n",
    "df.head()"
   ],
   "metadata": {
    "collapsed": false
   }
  },
  {
   "cell_type": "code",
   "execution_count": 3,
   "outputs": [
    {
     "data": {
      "text/plain": "Index(['fixed acidity', 'volatile acidity', 'citric acid', 'residual sugar',\n       'chlorides', 'free sulfur dioxide', 'total sulfur dioxide', 'density',\n       'pH', 'sulphates', 'alcohol', 'TARGET'],\n      dtype='object')"
     },
     "execution_count": 3,
     "metadata": {},
     "output_type": "execute_result"
    }
   ],
   "source": [
    "df.columns"
   ],
   "metadata": {
    "collapsed": false
   }
  },
  {
   "cell_type": "code",
   "execution_count": 4,
   "outputs": [
    {
     "data": {
      "text/plain": "                       count       mean        std      min      25%  \\\nfixed acidity         1599.0   8.319637   1.741096  4.60000   7.1000   \nvolatile acidity      1599.0   0.527821   0.179060  0.12000   0.3900   \ncitric acid           1599.0   0.270976   0.194801  0.00000   0.0900   \nresidual sugar        1599.0   2.538806   1.409928  0.90000   1.9000   \nchlorides             1599.0   0.087467   0.047065  0.01200   0.0700   \nfree sulfur dioxide   1599.0  15.874922  10.460157  1.00000   7.0000   \ntotal sulfur dioxide  1599.0  46.467792  32.895324  6.00000  22.0000   \ndensity               1599.0   0.996747   0.001887  0.99007   0.9956   \npH                    1599.0   3.311113   0.154386  2.74000   3.2100   \nsulphates             1599.0   0.658149   0.169507  0.33000   0.5500   \nalcohol               1599.0  10.422983   1.065668  8.40000   9.5000   \nTARGET                1599.0   5.636023   0.807569  3.00000   5.0000   \n\n                           50%        75%        max  \nfixed acidity          7.90000   9.200000   15.90000  \nvolatile acidity       0.52000   0.640000    1.58000  \ncitric acid            0.26000   0.420000    1.00000  \nresidual sugar         2.20000   2.600000   15.50000  \nchlorides              0.07900   0.090000    0.61100  \nfree sulfur dioxide   14.00000  21.000000   72.00000  \ntotal sulfur dioxide  38.00000  62.000000  289.00000  \ndensity                0.99675   0.997835    1.00369  \npH                     3.31000   3.400000    4.01000  \nsulphates              0.62000   0.730000    2.00000  \nalcohol               10.20000  11.100000   14.90000  \nTARGET                 6.00000   6.000000    8.00000  ",
      "text/html": "<div>\n<style scoped>\n    .dataframe tbody tr th:only-of-type {\n        vertical-align: middle;\n    }\n\n    .dataframe tbody tr th {\n        vertical-align: top;\n    }\n\n    .dataframe thead th {\n        text-align: right;\n    }\n</style>\n<table border=\"1\" class=\"dataframe\">\n  <thead>\n    <tr style=\"text-align: right;\">\n      <th></th>\n      <th>count</th>\n      <th>mean</th>\n      <th>std</th>\n      <th>min</th>\n      <th>25%</th>\n      <th>50%</th>\n      <th>75%</th>\n      <th>max</th>\n    </tr>\n  </thead>\n  <tbody>\n    <tr>\n      <th>fixed acidity</th>\n      <td>1599.0</td>\n      <td>8.319637</td>\n      <td>1.741096</td>\n      <td>4.60000</td>\n      <td>7.1000</td>\n      <td>7.90000</td>\n      <td>9.200000</td>\n      <td>15.90000</td>\n    </tr>\n    <tr>\n      <th>volatile acidity</th>\n      <td>1599.0</td>\n      <td>0.527821</td>\n      <td>0.179060</td>\n      <td>0.12000</td>\n      <td>0.3900</td>\n      <td>0.52000</td>\n      <td>0.640000</td>\n      <td>1.58000</td>\n    </tr>\n    <tr>\n      <th>citric acid</th>\n      <td>1599.0</td>\n      <td>0.270976</td>\n      <td>0.194801</td>\n      <td>0.00000</td>\n      <td>0.0900</td>\n      <td>0.26000</td>\n      <td>0.420000</td>\n      <td>1.00000</td>\n    </tr>\n    <tr>\n      <th>residual sugar</th>\n      <td>1599.0</td>\n      <td>2.538806</td>\n      <td>1.409928</td>\n      <td>0.90000</td>\n      <td>1.9000</td>\n      <td>2.20000</td>\n      <td>2.600000</td>\n      <td>15.50000</td>\n    </tr>\n    <tr>\n      <th>chlorides</th>\n      <td>1599.0</td>\n      <td>0.087467</td>\n      <td>0.047065</td>\n      <td>0.01200</td>\n      <td>0.0700</td>\n      <td>0.07900</td>\n      <td>0.090000</td>\n      <td>0.61100</td>\n    </tr>\n    <tr>\n      <th>free sulfur dioxide</th>\n      <td>1599.0</td>\n      <td>15.874922</td>\n      <td>10.460157</td>\n      <td>1.00000</td>\n      <td>7.0000</td>\n      <td>14.00000</td>\n      <td>21.000000</td>\n      <td>72.00000</td>\n    </tr>\n    <tr>\n      <th>total sulfur dioxide</th>\n      <td>1599.0</td>\n      <td>46.467792</td>\n      <td>32.895324</td>\n      <td>6.00000</td>\n      <td>22.0000</td>\n      <td>38.00000</td>\n      <td>62.000000</td>\n      <td>289.00000</td>\n    </tr>\n    <tr>\n      <th>density</th>\n      <td>1599.0</td>\n      <td>0.996747</td>\n      <td>0.001887</td>\n      <td>0.99007</td>\n      <td>0.9956</td>\n      <td>0.99675</td>\n      <td>0.997835</td>\n      <td>1.00369</td>\n    </tr>\n    <tr>\n      <th>pH</th>\n      <td>1599.0</td>\n      <td>3.311113</td>\n      <td>0.154386</td>\n      <td>2.74000</td>\n      <td>3.2100</td>\n      <td>3.31000</td>\n      <td>3.400000</td>\n      <td>4.01000</td>\n    </tr>\n    <tr>\n      <th>sulphates</th>\n      <td>1599.0</td>\n      <td>0.658149</td>\n      <td>0.169507</td>\n      <td>0.33000</td>\n      <td>0.5500</td>\n      <td>0.62000</td>\n      <td>0.730000</td>\n      <td>2.00000</td>\n    </tr>\n    <tr>\n      <th>alcohol</th>\n      <td>1599.0</td>\n      <td>10.422983</td>\n      <td>1.065668</td>\n      <td>8.40000</td>\n      <td>9.5000</td>\n      <td>10.20000</td>\n      <td>11.100000</td>\n      <td>14.90000</td>\n    </tr>\n    <tr>\n      <th>TARGET</th>\n      <td>1599.0</td>\n      <td>5.636023</td>\n      <td>0.807569</td>\n      <td>3.00000</td>\n      <td>5.0000</td>\n      <td>6.00000</td>\n      <td>6.000000</td>\n      <td>8.00000</td>\n    </tr>\n  </tbody>\n</table>\n</div>"
     },
     "execution_count": 4,
     "metadata": {},
     "output_type": "execute_result"
    }
   ],
   "source": [
    "df.describe().T"
   ],
   "metadata": {
    "collapsed": false
   }
  },
  {
   "cell_type": "code",
   "execution_count": 5,
   "outputs": [],
   "source": [
    "df.describe().loc[[\"min\", \"max\"]].to_json(\"schema_in.json\")"
   ],
   "metadata": {
    "collapsed": false
   }
  },
  {
   "cell_type": "code",
   "execution_count": 6,
   "outputs": [],
   "source": [
    "class NotInRange(Exception):\n",
    "    def __init__(self, message=\"value not in range\"):\n",
    "        self.message = message\n",
    "        super().__init__(self.message)"
   ],
   "metadata": {
    "collapsed": false
   }
  },
  {
   "cell_type": "code",
   "execution_count": 7,
   "outputs": [
    {
     "ename": "NotInRange",
     "evalue": "value not in range",
     "output_type": "error",
     "traceback": [
      "\u001B[1;31m---------------------------------------------------------------------------\u001B[0m",
      "\u001B[1;31mNotInRange\u001B[0m                                Traceback (most recent call last)",
      "Cell \u001B[1;32mIn [7], line 1\u001B[0m\n\u001B[1;32m----> 1\u001B[0m \u001B[38;5;28;01mraise\u001B[39;00m NotInRange\n",
      "\u001B[1;31mNotInRange\u001B[0m: value not in range"
     ]
    }
   ],
   "source": [
    "raise NotInRange"
   ],
   "metadata": {
    "collapsed": false
   }
  },
  {
   "cell_type": "code",
   "execution_count": null,
   "outputs": [],
   "source": [
    "import joblib\n",
    "import numpy as np"
   ],
   "metadata": {
    "collapsed": false
   }
  },
  {
   "cell_type": "code",
   "execution_count": null,
   "outputs": [],
   "source": [
    "input_data = {\n",
    "    \"fixed acidity\": 15.9,\n",
    "    \"volatile acidity\": 0.12,\n",
    "    \"citric acid\": 1.0,\n",
    "    \"residual sugar\": 15.5,\n",
    "    \"chlorides\": 0.611,\n",
    "    \"free sulfur dioxide\": 72.0,\n",
    "    \"total sulfur dioxide\": 289.0,\n",
    "    \"density\": 1.00369,\n",
    "    \"pH\": 4.01,\n",
    "    \"sulphates\": 0.33,\n",
    "    \"alcohol\": 14.9,\n",
    "    \"TARGET\": 8.0\n",
    "}"
   ],
   "metadata": {
    "collapsed": false
   }
  },
  {
   "cell_type": "code",
   "execution_count": null,
   "outputs": [],
   "source": [
    "model = joblib.load(\"../prediction_service/model/model.joblib\")\n",
    "prediction = model.predict(np.array(list(input_data.items())))"
   ],
   "metadata": {
    "collapsed": false
   }
  },
  {
   "cell_type": "code",
   "execution_count": null,
   "outputs": [],
   "source": [
    "np.array(list(input_data.items()))"
   ],
   "metadata": {
    "collapsed": false
   }
  },
  {
   "cell_type": "code",
   "execution_count": null,
   "outputs": [],
   "source": [],
   "metadata": {
    "collapsed": false
   }
  }
 ],
 "metadata": {
  "kernelspec": {
   "display_name": "Python 3",
   "language": "python",
   "name": "python3"
  },
  "language_info": {
   "codemirror_mode": {
    "name": "ipython",
    "version": 2
   },
   "file_extension": ".py",
   "mimetype": "text/x-python",
   "name": "python",
   "nbconvert_exporter": "python",
   "pygments_lexer": "ipython2",
   "version": "2.7.6"
  }
 },
 "nbformat": 4,
 "nbformat_minor": 0
}
