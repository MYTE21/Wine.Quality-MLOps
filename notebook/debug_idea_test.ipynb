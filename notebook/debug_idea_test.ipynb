{
 "cells": [
  {
   "cell_type": "markdown",
   "source": [
    "### Imports"
   ],
   "metadata": {
    "collapsed": false
   }
  },
  {
   "cell_type": "code",
   "execution_count": 11,
   "outputs": [],
   "source": [
    "import numpy as np\n",
    "# Imports\n",
    "import pandas as pd\n",
    "from sklearn.linear_model import ElasticNet"
   ],
   "metadata": {
    "collapsed": false
   }
  },
  {
   "cell_type": "markdown",
   "source": [
    "### Train and Test data split"
   ],
   "metadata": {
    "collapsed": false
   }
  },
  {
   "cell_type": "code",
   "execution_count": 3,
   "outputs": [],
   "source": [
    "# Train and Test data\n",
    "train = pd.read_csv(\"../data/processed/train_winequality.csv\", sep=\",\")\n",
    "test = pd.read_csv(\"../data/processed/test_winequality.csv\", sep=\",\")"
   ],
   "metadata": {
    "collapsed": false
   }
  },
  {
   "cell_type": "code",
   "execution_count": 4,
   "outputs": [
    {
     "name": "stdout",
     "output_type": "stream",
     "text": [
      "Train Dataset:\n",
      "\n"
     ]
    },
    {
     "data": {
      "text/plain": "   fixed_acidity  volatile_acidity  citric_acid  residual_sugar  chlorides  \\\n0            8.7             0.690         0.31             3.0      0.086   \n1            6.1             0.210         0.40             1.4      0.066   \n2           10.9             0.390         0.47             1.8      0.118   \n3            8.8             0.685         0.26             1.6      0.088   \n4            8.4             1.035         0.15             6.0      0.073   \n\n   free_sulfur_dioxide  total_sulfur_dioxide  density    pH  sulphates  \\\n0                 23.0                  81.0  1.00020  3.48       0.74   \n1                 40.5                 165.0  0.99120  3.25       0.59   \n2                  6.0                  14.0  0.99820  3.30       0.75   \n3                 16.0                  23.0  0.99694  3.32       0.47   \n4                 11.0                  54.0  0.99900  3.37       0.49   \n\n   alcohol  TARGET  \n0     11.6       6  \n1     11.9       6  \n2      9.8       6  \n3      9.4       5  \n4      9.9       5  ",
      "text/html": "<div>\n<style scoped>\n    .dataframe tbody tr th:only-of-type {\n        vertical-align: middle;\n    }\n\n    .dataframe tbody tr th {\n        vertical-align: top;\n    }\n\n    .dataframe thead th {\n        text-align: right;\n    }\n</style>\n<table border=\"1\" class=\"dataframe\">\n  <thead>\n    <tr style=\"text-align: right;\">\n      <th></th>\n      <th>fixed_acidity</th>\n      <th>volatile_acidity</th>\n      <th>citric_acid</th>\n      <th>residual_sugar</th>\n      <th>chlorides</th>\n      <th>free_sulfur_dioxide</th>\n      <th>total_sulfur_dioxide</th>\n      <th>density</th>\n      <th>pH</th>\n      <th>sulphates</th>\n      <th>alcohol</th>\n      <th>TARGET</th>\n    </tr>\n  </thead>\n  <tbody>\n    <tr>\n      <th>0</th>\n      <td>8.7</td>\n      <td>0.690</td>\n      <td>0.31</td>\n      <td>3.0</td>\n      <td>0.086</td>\n      <td>23.0</td>\n      <td>81.0</td>\n      <td>1.00020</td>\n      <td>3.48</td>\n      <td>0.74</td>\n      <td>11.6</td>\n      <td>6</td>\n    </tr>\n    <tr>\n      <th>1</th>\n      <td>6.1</td>\n      <td>0.210</td>\n      <td>0.40</td>\n      <td>1.4</td>\n      <td>0.066</td>\n      <td>40.5</td>\n      <td>165.0</td>\n      <td>0.99120</td>\n      <td>3.25</td>\n      <td>0.59</td>\n      <td>11.9</td>\n      <td>6</td>\n    </tr>\n    <tr>\n      <th>2</th>\n      <td>10.9</td>\n      <td>0.390</td>\n      <td>0.47</td>\n      <td>1.8</td>\n      <td>0.118</td>\n      <td>6.0</td>\n      <td>14.0</td>\n      <td>0.99820</td>\n      <td>3.30</td>\n      <td>0.75</td>\n      <td>9.8</td>\n      <td>6</td>\n    </tr>\n    <tr>\n      <th>3</th>\n      <td>8.8</td>\n      <td>0.685</td>\n      <td>0.26</td>\n      <td>1.6</td>\n      <td>0.088</td>\n      <td>16.0</td>\n      <td>23.0</td>\n      <td>0.99694</td>\n      <td>3.32</td>\n      <td>0.47</td>\n      <td>9.4</td>\n      <td>5</td>\n    </tr>\n    <tr>\n      <th>4</th>\n      <td>8.4</td>\n      <td>1.035</td>\n      <td>0.15</td>\n      <td>6.0</td>\n      <td>0.073</td>\n      <td>11.0</td>\n      <td>54.0</td>\n      <td>0.99900</td>\n      <td>3.37</td>\n      <td>0.49</td>\n      <td>9.9</td>\n      <td>5</td>\n    </tr>\n  </tbody>\n</table>\n</div>"
     },
     "execution_count": 4,
     "metadata": {},
     "output_type": "execute_result"
    }
   ],
   "source": [
    "print(\"Train Dataset:\\n\")\n",
    "train.head()"
   ],
   "metadata": {
    "collapsed": false
   }
  },
  {
   "cell_type": "code",
   "execution_count": 5,
   "outputs": [
    {
     "name": "stdout",
     "output_type": "stream",
     "text": [
      "Test Dataset:\n",
      "\n"
     ]
    },
    {
     "data": {
      "text/plain": "   fixed_acidity  volatile_acidity  citric_acid  residual_sugar  chlorides  \\\n0            7.7              0.56         0.08            2.50      0.114   \n1            7.8              0.50         0.17            1.60      0.082   \n2           10.7              0.67         0.22            2.70      0.107   \n3            8.5              0.46         0.31            2.25      0.078   \n4            6.7              0.46         0.24            1.70      0.077   \n\n   free_sulfur_dioxide  total_sulfur_dioxide  density    pH  sulphates  \\\n0                 14.0                  46.0   0.9971  3.24       0.66   \n1                 21.0                 102.0   0.9960  3.39       0.48   \n2                 17.0                  34.0   1.0004  3.28       0.98   \n3                 32.0                  58.0   0.9980  3.33       0.54   \n4                 18.0                  34.0   0.9948  3.39       0.60   \n\n   alcohol  TARGET  \n0      9.6       6  \n1      9.5       5  \n2      9.9       6  \n3      9.8       5  \n4     10.6       6  ",
      "text/html": "<div>\n<style scoped>\n    .dataframe tbody tr th:only-of-type {\n        vertical-align: middle;\n    }\n\n    .dataframe tbody tr th {\n        vertical-align: top;\n    }\n\n    .dataframe thead th {\n        text-align: right;\n    }\n</style>\n<table border=\"1\" class=\"dataframe\">\n  <thead>\n    <tr style=\"text-align: right;\">\n      <th></th>\n      <th>fixed_acidity</th>\n      <th>volatile_acidity</th>\n      <th>citric_acid</th>\n      <th>residual_sugar</th>\n      <th>chlorides</th>\n      <th>free_sulfur_dioxide</th>\n      <th>total_sulfur_dioxide</th>\n      <th>density</th>\n      <th>pH</th>\n      <th>sulphates</th>\n      <th>alcohol</th>\n      <th>TARGET</th>\n    </tr>\n  </thead>\n  <tbody>\n    <tr>\n      <th>0</th>\n      <td>7.7</td>\n      <td>0.56</td>\n      <td>0.08</td>\n      <td>2.50</td>\n      <td>0.114</td>\n      <td>14.0</td>\n      <td>46.0</td>\n      <td>0.9971</td>\n      <td>3.24</td>\n      <td>0.66</td>\n      <td>9.6</td>\n      <td>6</td>\n    </tr>\n    <tr>\n      <th>1</th>\n      <td>7.8</td>\n      <td>0.50</td>\n      <td>0.17</td>\n      <td>1.60</td>\n      <td>0.082</td>\n      <td>21.0</td>\n      <td>102.0</td>\n      <td>0.9960</td>\n      <td>3.39</td>\n      <td>0.48</td>\n      <td>9.5</td>\n      <td>5</td>\n    </tr>\n    <tr>\n      <th>2</th>\n      <td>10.7</td>\n      <td>0.67</td>\n      <td>0.22</td>\n      <td>2.70</td>\n      <td>0.107</td>\n      <td>17.0</td>\n      <td>34.0</td>\n      <td>1.0004</td>\n      <td>3.28</td>\n      <td>0.98</td>\n      <td>9.9</td>\n      <td>6</td>\n    </tr>\n    <tr>\n      <th>3</th>\n      <td>8.5</td>\n      <td>0.46</td>\n      <td>0.31</td>\n      <td>2.25</td>\n      <td>0.078</td>\n      <td>32.0</td>\n      <td>58.0</td>\n      <td>0.9980</td>\n      <td>3.33</td>\n      <td>0.54</td>\n      <td>9.8</td>\n      <td>5</td>\n    </tr>\n    <tr>\n      <th>4</th>\n      <td>6.7</td>\n      <td>0.46</td>\n      <td>0.24</td>\n      <td>1.70</td>\n      <td>0.077</td>\n      <td>18.0</td>\n      <td>34.0</td>\n      <td>0.9948</td>\n      <td>3.39</td>\n      <td>0.60</td>\n      <td>10.6</td>\n      <td>6</td>\n    </tr>\n  </tbody>\n</table>\n</div>"
     },
     "execution_count": 5,
     "metadata": {},
     "output_type": "execute_result"
    }
   ],
   "source": [
    "print(\"Test Dataset:\\n\")\n",
    "test.head()"
   ],
   "metadata": {
    "collapsed": false
   }
  },
  {
   "cell_type": "code",
   "execution_count": 6,
   "outputs": [],
   "source": [
    "train_y = train[\"TARGET\"]\n",
    "test_y = test[\"TARGET\"]\n",
    "train_x = train.drop(\"TARGET\", axis=1)\n",
    "test_x = test.drop(\"TARGET\", axis=1)"
   ],
   "metadata": {
    "collapsed": false
   }
  },
  {
   "cell_type": "markdown",
   "source": [
    "### Modeling"
   ],
   "metadata": {
    "collapsed": false
   }
  },
  {
   "cell_type": "code",
   "execution_count": 7,
   "outputs": [
    {
     "data": {
      "text/plain": "ElasticNet(alpha=0.9, l1_ratio=0.4, random_state=42)",
      "text/html": "<style>#sk-container-id-1 {color: black;background-color: white;}#sk-container-id-1 pre{padding: 0;}#sk-container-id-1 div.sk-toggleable {background-color: white;}#sk-container-id-1 label.sk-toggleable__label {cursor: pointer;display: block;width: 100%;margin-bottom: 0;padding: 0.3em;box-sizing: border-box;text-align: center;}#sk-container-id-1 label.sk-toggleable__label-arrow:before {content: \"▸\";float: left;margin-right: 0.25em;color: #696969;}#sk-container-id-1 label.sk-toggleable__label-arrow:hover:before {color: black;}#sk-container-id-1 div.sk-estimator:hover label.sk-toggleable__label-arrow:before {color: black;}#sk-container-id-1 div.sk-toggleable__content {max-height: 0;max-width: 0;overflow: hidden;text-align: left;background-color: #f0f8ff;}#sk-container-id-1 div.sk-toggleable__content pre {margin: 0.2em;color: black;border-radius: 0.25em;background-color: #f0f8ff;}#sk-container-id-1 input.sk-toggleable__control:checked~div.sk-toggleable__content {max-height: 200px;max-width: 100%;overflow: auto;}#sk-container-id-1 input.sk-toggleable__control:checked~label.sk-toggleable__label-arrow:before {content: \"▾\";}#sk-container-id-1 div.sk-estimator input.sk-toggleable__control:checked~label.sk-toggleable__label {background-color: #d4ebff;}#sk-container-id-1 div.sk-label input.sk-toggleable__control:checked~label.sk-toggleable__label {background-color: #d4ebff;}#sk-container-id-1 input.sk-hidden--visually {border: 0;clip: rect(1px 1px 1px 1px);clip: rect(1px, 1px, 1px, 1px);height: 1px;margin: -1px;overflow: hidden;padding: 0;position: absolute;width: 1px;}#sk-container-id-1 div.sk-estimator {font-family: monospace;background-color: #f0f8ff;border: 1px dotted black;border-radius: 0.25em;box-sizing: border-box;margin-bottom: 0.5em;}#sk-container-id-1 div.sk-estimator:hover {background-color: #d4ebff;}#sk-container-id-1 div.sk-parallel-item::after {content: \"\";width: 100%;border-bottom: 1px solid gray;flex-grow: 1;}#sk-container-id-1 div.sk-label:hover label.sk-toggleable__label {background-color: #d4ebff;}#sk-container-id-1 div.sk-serial::before {content: \"\";position: absolute;border-left: 1px solid gray;box-sizing: border-box;top: 0;bottom: 0;left: 50%;z-index: 0;}#sk-container-id-1 div.sk-serial {display: flex;flex-direction: column;align-items: center;background-color: white;padding-right: 0.2em;padding-left: 0.2em;position: relative;}#sk-container-id-1 div.sk-item {position: relative;z-index: 1;}#sk-container-id-1 div.sk-parallel {display: flex;align-items: stretch;justify-content: center;background-color: white;position: relative;}#sk-container-id-1 div.sk-item::before, #sk-container-id-1 div.sk-parallel-item::before {content: \"\";position: absolute;border-left: 1px solid gray;box-sizing: border-box;top: 0;bottom: 0;left: 50%;z-index: -1;}#sk-container-id-1 div.sk-parallel-item {display: flex;flex-direction: column;z-index: 1;position: relative;background-color: white;}#sk-container-id-1 div.sk-parallel-item:first-child::after {align-self: flex-end;width: 50%;}#sk-container-id-1 div.sk-parallel-item:last-child::after {align-self: flex-start;width: 50%;}#sk-container-id-1 div.sk-parallel-item:only-child::after {width: 0;}#sk-container-id-1 div.sk-dashed-wrapped {border: 1px dashed gray;margin: 0 0.4em 0.5em 0.4em;box-sizing: border-box;padding-bottom: 0.4em;background-color: white;}#sk-container-id-1 div.sk-label label {font-family: monospace;font-weight: bold;display: inline-block;line-height: 1.2em;}#sk-container-id-1 div.sk-label-container {text-align: center;}#sk-container-id-1 div.sk-container {/* jupyter's `normalize.less` sets `[hidden] { display: none; }` but bootstrap.min.css set `[hidden] { display: none !important; }` so we also need the `!important` here to be able to override the default hidden behavior on the sphinx rendered scikit-learn.org. See: https://github.com/scikit-learn/scikit-learn/issues/21755 */display: inline-block !important;position: relative;}#sk-container-id-1 div.sk-text-repr-fallback {display: none;}</style><div id=\"sk-container-id-1\" class=\"sk-top-container\"><div class=\"sk-text-repr-fallback\"><pre>ElasticNet(alpha=0.9, l1_ratio=0.4, random_state=42)</pre><b>In a Jupyter environment, please rerun this cell to show the HTML representation or trust the notebook. <br />On GitHub, the HTML representation is unable to render, please try loading this page with nbviewer.org.</b></div><div class=\"sk-container\" hidden><div class=\"sk-item\"><div class=\"sk-estimator sk-toggleable\"><input class=\"sk-toggleable__control sk-hidden--visually\" id=\"sk-estimator-id-1\" type=\"checkbox\" checked><label for=\"sk-estimator-id-1\" class=\"sk-toggleable__label sk-toggleable__label-arrow\">ElasticNet</label><div class=\"sk-toggleable__content\"><pre>ElasticNet(alpha=0.9, l1_ratio=0.4, random_state=42)</pre></div></div></div></div></div>"
     },
     "execution_count": 7,
     "metadata": {},
     "output_type": "execute_result"
    }
   ],
   "source": [
    "lr = ElasticNet(alpha=0.9, l1_ratio=0.4, random_state=42)\n",
    "lr.fit(train_x, train_y)"
   ],
   "metadata": {
    "collapsed": false
   }
  },
  {
   "cell_type": "code",
   "execution_count": 8,
   "outputs": [],
   "source": [
    "predicted_qualities = lr.predict(test_x)"
   ],
   "metadata": {
    "collapsed": false
   }
  },
  {
   "cell_type": "code",
   "execution_count": 9,
   "outputs": [
    {
     "data": {
      "text/plain": "array([5.61940061, 5.34754958, 5.69403173, 5.61985775, 5.69873937,\n       5.55568692, 5.11675003, 5.74885071, 5.69558124, 5.73100239,\n       5.75889485, 5.77167817, 5.69723269, 5.67879833, 5.59090194,\n       5.77914807, 5.44028024, 5.58477369, 5.74814051, 5.53648326,\n       5.77149048, 5.6730885 , 5.7223836 , 5.718262  , 5.75732474,\n       5.70744403, 5.6498246 , 5.6207195 , 5.41094452, 5.70662963,\n       5.5491627 , 5.66252422, 5.71993567, 5.74529455, 5.69049596,\n       5.46536752, 5.73853539, 5.75690633, 5.69832301, 5.78310225,\n       5.70277942, 5.49022417, 5.76376969, 5.26860906, 5.7425324 ,\n       5.74261621, 5.72545997, 5.70706843, 5.5510042 , 5.76362266,\n       5.21318161, 5.54077226, 5.77343597, 5.41318653, 5.51298832,\n       5.42264421, 5.74207116, 5.57994168, 5.68865467, 5.6991374 ,\n       5.61301909, 5.74276324, 5.66285677, 5.60138693, 5.74150572,\n       5.59939635, 5.74830792, 5.66714805, 5.71142108, 5.48166428,\n       5.67735754, 5.50083149, 5.70903431, 5.72091769, 5.7345812 ,\n       5.65959466, 5.45923538, 5.39253076, 5.50428388, 5.56309781,\n       5.64969775, 5.72748927, 5.65322921, 5.75881104, 5.58780518,\n       5.62368778, 5.49080795, 5.74543952, 5.69968267, 5.76646841,\n       5.58617207, 5.11767089, 5.76527637, 5.73351558, 5.34698619,\n       5.77090444, 5.43276763, 5.76108908, 5.7699838 , 5.71007954,\n       5.75046138, 5.73378471, 5.61636502, 5.75901922, 5.71671012,\n       5.66768899, 5.75100643, 5.45806104, 5.43488074, 5.502381  ,\n       5.62327163, 5.46358512, 5.61184086, 5.13382041, 5.76366344,\n       5.73809637, 5.78015252, 5.69064299, 5.55196767, 5.67911297,\n       5.61279074, 5.71432777, 5.62347939, 5.66689704, 5.76194857,\n       5.72334481, 5.59885357, 5.6843881 , 5.6244023 , 5.67155959,\n       5.70903431, 5.76084013, 5.41490098, 5.72010329, 5.76362266,\n       5.67214746, 5.63852273, 5.3532798 , 5.51264713, 5.65304368,\n       5.72104411, 5.66988981, 5.71577125, 5.75705335, 5.73899663,\n       5.57332933, 5.76136296, 5.75724114, 5.48314853, 5.25751991,\n       5.62789298, 5.77427302, 5.61921282, 5.6402376 , 5.70903431,\n       5.58937508, 5.68817488, 5.7207931 , 5.70104212, 5.74663383,\n       5.71928663, 5.56744572, 5.64756037, 5.43896136, 5.5407906 ,\n       5.5943745 , 5.64128693, 5.67871678, 5.4306117 , 5.27693607,\n       5.4589613 , 5.7744606 , 5.7795461 , 5.57439494, 4.47892748,\n       5.66706445, 5.66990588, 5.52922392, 5.45555216, 5.40379164,\n       5.78435751, 5.72091769, 5.44195207, 5.7600871 , 5.77268252,\n       5.49281707, 5.77149048, 5.6200682 , 5.7794625 , 5.57439494,\n       5.72472485, 5.58782988, 5.63157577, 5.72491286, 5.53267609,\n       5.72863827, 5.69520565, 5.55229817, 5.62103167, 5.66768899,\n       5.76914675, 5.30453449, 5.68624978, 5.43318831, 5.66653773,\n       5.62703781, 5.48300129, 5.62473485, 5.71844937, 5.5826952 ,\n       5.37276392, 5.20962113, 5.74460453, 5.62870554, 5.78534179,\n       5.76816289, 5.59402134, 5.57470711, 5.6883425 , 5.6405337 ,\n       5.659321  , 5.5031324 , 5.65904982, 5.68972234, 5.69474441,\n       5.58701096, 5.65771033, 5.75889485, 5.43594388, 5.71215166,\n       5.41065048, 5.68434506, 5.78088537, 5.76015032, 5.72951836,\n       5.66768899, 5.7507962 , 5.58780518, 5.75067162, 5.28386059,\n       5.77460762, 5.62400405, 5.60186899, 5.71730037, 5.706754  ,\n       5.61649371, 5.72464331, 5.58862389, 5.7341424 , 5.23006646,\n       5.58159312, 5.72656841, 5.7406073 , 5.67135345, 5.77023502,\n       5.52715179, 5.6876459 , 5.78276744, 5.73855783, 5.59508739,\n       5.63557527, 5.76201221, 5.52922392, 5.77180513, 5.74081775,\n       5.75793117, 5.61728771, 5.34043726, 5.69024495, 5.63657972,\n       5.62257686, 5.59176164, 5.59090194, 5.39696884, 5.72424506,\n       5.68016231, 5.68193607, 5.39903913, 5.65524244, 5.70918133,\n       5.72522935, 5.71974787, 5.73799012, 5.5969509 , 5.62626397,\n       5.67697763, 5.29984292, 5.66988981, 5.58276272, 5.63132703,\n       5.22219227, 5.75755579, 5.75320293, 5.58458158, 5.20282757,\n       5.67678984, 5.57385194, 5.78536218, 5.64651514, 5.75975229,\n       5.67229449, 5.53673221, 5.62402465, 5.63389664, 5.67354995,\n       5.61601186, 5.6739826 , 5.64358558, 5.79264417, 5.74144456,\n       5.71074918, 5.67595484, 5.53384569, 5.73646532, 5.74529455,\n       5.69459739, 5.58331263, 5.64440429, 5.74386963, 5.75360117])"
     },
     "execution_count": 9,
     "metadata": {},
     "output_type": "execute_result"
    }
   ],
   "source": [
    "predicted_qualities"
   ],
   "metadata": {
    "collapsed": false
   }
  },
  {
   "cell_type": "code",
   "execution_count": 12,
   "outputs": [
    {
     "name": "stdout",
     "output_type": "stream",
     "text": [
      "rmse:  0.8031192316982253\n",
      "mae:  0.6551462834843993\n",
      "r2:  0.013014969842178092\n"
     ]
    }
   ],
   "source": [
    "# Evaluation\n",
    "from sklearn.metrics import mean_squared_error, mean_absolute_error, r2_score\n",
    "\n",
    "rmse = np.sqrt(mean_squared_error(test_y, predicted_qualities))\n",
    "print(\"rmse: \", rmse)\n",
    "\n",
    "mae = mean_absolute_error(test_y, predicted_qualities)\n",
    "print(\"mae: \", mae)\n",
    "\n",
    "r2 = r2_score(test_y, predicted_qualities)\n",
    "print(\"r2: \", r2)"
   ],
   "metadata": {
    "collapsed": false
   }
  },
  {
   "cell_type": "code",
   "execution_count": null,
   "outputs": [],
   "source": [],
   "metadata": {
    "collapsed": false
   }
  }
 ],
 "metadata": {
  "kernelspec": {
   "display_name": "Python 3",
   "language": "python",
   "name": "python3"
  },
  "language_info": {
   "codemirror_mode": {
    "name": "ipython",
    "version": 2
   },
   "file_extension": ".py",
   "mimetype": "text/x-python",
   "name": "python",
   "nbconvert_exporter": "python",
   "pygments_lexer": "ipython2",
   "version": "2.7.6"
  }
 },
 "nbformat": 4,
 "nbformat_minor": 0
}
